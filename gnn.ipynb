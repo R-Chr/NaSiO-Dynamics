{
 "cells": [
  {
   "cell_type": "code",
   "execution_count": 1,
   "id": "58f204f7",
   "metadata": {},
   "outputs": [
    {
     "name": "stderr",
     "output_type": "stream",
     "text": [
      "/tmp/ipykernel_144306/3336146761.py:1: DeprecationWarning: \n",
      "Pyarrow will become a required dependency of pandas in the next major release of pandas (pandas 3.0),\n",
      "(to allow more performant data types, such as the Arrow string type, and better interoperability with other libraries)\n",
      "but was not found to be installed on your system.\n",
      "If this would cause problems for you,\n",
      "please provide us feedback at https://github.com/pandas-dev/pandas/issues/54466\n",
      "        \n",
      "  import pandas as pd\n"
     ]
    },
    {
     "name": "stdout",
     "output_type": "stream",
     "text": [
      "Interactive session\n",
      "torch device: cuda:0\n"
     ]
    }
   ],
   "source": [
    "import pandas as pd\n",
    "import numpy as np\n",
    "import os\n",
    "import torch\n",
    "import torch_geometric as tg\n",
    "from torch_geometric.loader import DataLoader\n",
    "from torch.utils.data import Subset\n",
    "import sys\n",
    "from tqdm import tqdm\n",
    "\n",
    "wd = os.getcwd()\n",
    "\n",
    "def is_interactive():\n",
    "    import __main__ as main\n",
    "    return not hasattr(main, '__file__')\n",
    "    \n",
    "if is_interactive():\n",
    "    model, train_index, train_ratio, layers, parent = \"MACE\", \"all-10\", \"1\", \"4\", wd\n",
    "    print(\"Interactive session\")\n",
    "else:\n",
    "    model, train_index, train_ratio, layers, parent = sys.argv[1:]\n",
    "\n",
    "train_ratio = float(train_ratio)\n",
    "layers = int(layers)\n",
    "\n",
    "torch.set_default_dtype(torch.float32)\n",
    "torch.manual_seed(0)\n",
    "\n",
    "device = \"cuda:0\" if torch.cuda.is_available() else \"cpu\"\n",
    "print('torch device:' , device)"
   ]
  },
  {
   "cell_type": "code",
   "execution_count": 2,
   "id": "d037da6e",
   "metadata": {},
   "outputs": [],
   "source": [
    "import sys\n",
    "sys.path.append(f'{parent}')\n",
    "sys.path.append(f'{parent}/geometricgnn')\n",
    "from geometricgnn.src import models as gnn_models\n",
    "from geometricgnn.src import data as data_func\n",
    "from geometricgnn.src.utils.train_utility import save_ckp, PearsonCC, train, validate"
   ]
  },
  {
   "cell_type": "code",
   "execution_count": 3,
   "id": "c6103a99",
   "metadata": {},
   "outputs": [],
   "source": [
    "dataset = data_func.GlassDynDataset(root=f\"{parent}\")"
   ]
  },
  {
   "cell_type": "code",
   "execution_count": 4,
   "id": "49464af2",
   "metadata": {},
   "outputs": [],
   "source": [
    "if train_index == \"all\":\n",
    "    shuffle_index = np.arange(len(dataset))\n",
    "    shuffle_index = np.random.default_rng(seed=0).permutation(shuffle_index)\n",
    "    index_train = shuffle_index[:round(0.8*len(shuffle_index)*train_ratio)]\n",
    "    index_val = shuffle_index[round(0.8*len(shuffle_index)):round(0.9*len(shuffle_index))]\n",
    "    index_test = shuffle_index[round(0.9*len(shuffle_index)):]\n",
    "    \n",
    "    train_dataset = Subset(dataset, index_train)\n",
    "    val_dataset = Subset(dataset, index_val)\n",
    "    test_dataset = Subset(dataset, index_test)\n",
    "    \n",
    "    in_dim = 4\n",
    "    time_features = True\n",
    "    \n",
    "elif train_index == \"all-10\":\n",
    "    num_config = len(dataset) / 8\n",
    "    \n",
    "    index_train = np.array([list(range(                    int(num_config)*i, int(num_config*0.8)+int(num_config)*i, 1)) for i in range(1,8,1)]).flatten()\n",
    "    index_val   = np.array([list(range(int(num_config*0.8)+int(num_config)*i, int(num_config*0.9)+int(num_config)*i, 1)) for i in range(1,8,1)]).flatten()\n",
    "    index_test  = np.array([list(range(int(num_config*0.9)+int(num_config)*i, int(num_config    )+int(num_config)*i, 1)) for i in range(1,8,1)]).flatten()\n",
    "    \n",
    "    train_dataset = Subset(dataset, index_train)\n",
    "    val_dataset = Subset(dataset, index_val)\n",
    "    test_dataset = Subset(dataset, index_test)\n",
    "    \n",
    "    in_dim = 4\n",
    "    time_features = True\n",
    "    \n",
    "else:\n",
    "    train_index = int(train_index)\n",
    "    train_dataset = dataset[round((train_index) * len(dataset) / 8) : round(((train_index) * len(dataset) / 8) + train_ratio * 0.8 * len(dataset) / 8)]\n",
    "    val_dataset = dataset[round(((train_index) * len(dataset) / 8) + 0.8* len(dataset) / 8) : round(((train_index) * len(dataset) / 8) + 0.9* len(dataset) / 8)]\n",
    "    test_dataset = dataset[round(((train_index) * len(dataset) / 8) + 0.9* len(dataset) / 8) : round(((train_index) * len(dataset) / 8) + len(dataset) / 8)]\n",
    "    in_dim = 3\n",
    "    time_features = False\n",
    "    \n",
    "batch_size = 1\n",
    "train_loader = DataLoader(train_dataset, batch_size=batch_size)\n",
    "test_loader = DataLoader(test_dataset, batch_size=1)\n",
    "val_loader = DataLoader(val_dataset, batch_size=1)\n",
    "\n",
    "for data in test_loader:\n",
    "    Na_ind = np.where(np.array(data.symbol).flatten()==\"Na\")\n",
    "    Si_ind = np.where(np.array(data.symbol).flatten()==\"Si\")\n",
    "    O_ind = np.where(np.array(data.symbol).flatten()==\"O\")\n",
    "    break\n",
    "    \n",
    "Na_ind_batch = np.hstack([Na_ind[0] + i*3000 for i in range(batch_size)])\n",
    "Si_ind_batch = np.hstack([Si_ind[0] + i*3000 for i in range(batch_size)])\n",
    "O_ind_batch = np.hstack([O_ind[0] + i*3000 for i in range(batch_size)])\n",
    "\n",
    "out_dim = 1"
   ]
  },
  {
   "cell_type": "code",
   "execution_count": 5,
   "id": "1c88f30b",
   "metadata": {},
   "outputs": [
    {
     "name": "stderr",
     "output_type": "stream",
     "text": [
      "/usr/local/lib/python3.10/dist-packages/torch/jit/_check.py:177: UserWarning: The TorchScript type system doesn't support instance-level annotations on empty non-base types in `__init__`. Instead, either 1) use a type annotation in the class body, or 2) wrap the type in `torch.jit.Attribute`.\n",
      "  warnings.warn(\n",
      "/usr/local/lib/python3.10/dist-packages/torch/jit/_check.py:177: UserWarning: The TorchScript type system doesn't support instance-level annotations on empty non-base types in `__init__`. Instead, either 1) use a type annotation in the class body, or 2) wrap the type in `torch.jit.Attribute`.\n",
      "  warnings.warn(\n",
      "/usr/local/lib/python3.10/dist-packages/torch/jit/_check.py:177: UserWarning: The TorchScript type system doesn't support instance-level annotations on empty non-base types in `__init__`. Instead, either 1) use a type annotation in the class body, or 2) wrap the type in `torch.jit.Attribute`.\n",
      "  warnings.warn(\n",
      "/usr/local/lib/python3.10/dist-packages/torch/jit/_check.py:177: UserWarning: The TorchScript type system doesn't support instance-level annotations on empty non-base types in `__init__`. Instead, either 1) use a type annotation in the class body, or 2) wrap the type in `torch.jit.Attribute`.\n",
      "  warnings.warn(\n",
      "/usr/local/lib/python3.10/dist-packages/torch/jit/_check.py:177: UserWarning: The TorchScript type system doesn't support instance-level annotations on empty non-base types in `__init__`. Instead, either 1) use a type annotation in the class body, or 2) wrap the type in `torch.jit.Attribute`.\n",
      "  warnings.warn(\n",
      "/usr/local/lib/python3.10/dist-packages/torch/jit/_check.py:177: UserWarning: The TorchScript type system doesn't support instance-level annotations on empty non-base types in `__init__`. Instead, either 1) use a type annotation in the class body, or 2) wrap the type in `torch.jit.Attribute`.\n",
      "  warnings.warn(\n",
      "/usr/local/lib/python3.10/dist-packages/torch/jit/_check.py:177: UserWarning: The TorchScript type system doesn't support instance-level annotations on empty non-base types in `__init__`. Instead, either 1) use a type annotation in the class body, or 2) wrap the type in `torch.jit.Attribute`.\n",
      "  warnings.warn(\n",
      "/usr/local/lib/python3.10/dist-packages/torch/jit/_check.py:177: UserWarning: The TorchScript type system doesn't support instance-level annotations on empty non-base types in `__init__`. Instead, either 1) use a type annotation in the class body, or 2) wrap the type in `torch.jit.Attribute`.\n",
      "  warnings.warn(\n"
     ]
    }
   ],
   "source": [
    "if model == \"TFN\":\n",
    "    model = gnn_models.TFNModel(\n",
    "        in_dim=in_dim,\n",
    "        emb_dim=16,\n",
    "        out_dim=1,\n",
    "        max_ell=2,\n",
    "        num_layers=layers,\n",
    "        r_max=5,\n",
    "        time_features=time_features,\n",
    "        avg_num_neighbors = 38\n",
    "    )\n",
    "\n",
    "elif model == \"Schnet\":\n",
    "    model = gnn_models.SchNetModel(\n",
    "        in_dim=in_dim,\n",
    "        out_dim=1,\n",
    "        num_layers=layers,\n",
    "        hidden_channels=16,\n",
    "        num_filters = 16, \n",
    "        num_gaussians = 16, \n",
    "        cutoff=5,\n",
    "        time_features=time_features,\n",
    "    )\n",
    "\n",
    "elif model == \"MACE\":\n",
    "    model = gnn_models.MACEModel(\n",
    "        in_dim=in_dim,\n",
    "        emb_dim=16,\n",
    "        out_dim=1,\n",
    "        max_ell=2,\n",
    "        correlation=3,\n",
    "        num_layers=layers,\n",
    "        r_max=5,\n",
    "        time_features=time_features,\n",
    "        avg_num_neighbors = 38\n",
    "    )\n",
    "\n",
    "elif model == \"EGNN\":\n",
    "    model = gnn_models.EGNNModel(\n",
    "        num_layers=layers,\n",
    "        emb_dim=16,\n",
    "        in_dim=in_dim,\n",
    "        out_dim=1,\n",
    "        activation=\"softplus\",\n",
    "        norm=\"layer\",\n",
    "        aggr=\"sum\",\n",
    "        residual=True,\n",
    "        time_features=time_features,\n",
    "    )"
   ]
  },
  {
   "cell_type": "code",
   "execution_count": 6,
   "id": "ee623954",
   "metadata": {},
   "outputs": [
    {
     "name": "stdout",
     "output_type": "stream",
     "text": [
      "torch device: cuda:0\n"
     ]
    }
   ],
   "source": [
    "loss_fn = torch.nn.MSELoss()\n",
    "device = \"cuda:0\" if torch.cuda.is_available() else \"cpu\"\n",
    "print('torch device:' , device)\n",
    "\n",
    "opt = torch.optim.Adam(model.parameters(), lr=0.005, betas=(0.90, 0.999), weight_decay=10e-8, amsgrad=True)\n",
    "scheduler = torch.optim.lr_scheduler.ReduceLROnPlateau(opt, 'min', factor=0.75, patience=10)"
   ]
  },
  {
   "cell_type": "code",
   "execution_count": null,
   "id": "46ef0ecf",
   "metadata": {},
   "outputs": [
    {
     "name": "stderr",
     "output_type": "stream",
     "text": [
      "  0%|▏                                                                                                                                                                                                | 1/1000 [16:07<268:33:28, 967.78s/it]"
     ]
    },
    {
     "name": "stdout",
     "output_type": "stream",
     "text": [
      "Epoch: 0, Train Loss: 0.2874, Val Loss: 4.8935\n"
     ]
    }
   ],
   "source": [
    "model = model.to(device)\n",
    "lowest_loss = 10\n",
    "\n",
    "for e in tqdm(range(1000)):\n",
    "    train_loss = train(model, opt, loss_fn, train_loader, device)\n",
    "    val_loss = validate(model, loss_fn, val_loader, device)\n",
    "    scheduler.step(val_loss)\n",
    "    \n",
    "    state = {\n",
    "    'epoch': e + 1,\n",
    "    'state_dict': model.state_dict(),\n",
    "    'optimizer': opt.state_dict(),\n",
    "    'scheduler': scheduler.state_dict()\n",
    "    }\n",
    "    \n",
    "    if val_loss < lowest_loss:\n",
    "        save_ckp(state, True)\n",
    "        lowest_loss = val_loss\n",
    "        best_epoch = e\n",
    "    else:\n",
    "        save_ckp(state, False)\n",
    "        \n",
    "    with open('log.dat', mode='a') as file:\n",
    "        file.write(f\"{train_loss:.4f}, {val_loss:.4f}\\n\")\n",
    "\n",
    "    if e > best_epoch + 100:\n",
    "        break\n",
    "        \n",
    "    print(f\"Epoch: {e}, Train Loss: {train_loss:.4f}, Val Loss: {val_loss:.4f}\")"
   ]
  }
 ],
 "metadata": {
  "kernelspec": {
   "display_name": "Python 3 (ipykernel)",
   "language": "python",
   "name": "python3"
  },
  "language_info": {
   "codemirror_mode": {
    "name": "ipython",
    "version": 3
   },
   "file_extension": ".py",
   "mimetype": "text/x-python",
   "name": "python",
   "nbconvert_exporter": "python",
   "pygments_lexer": "ipython3",
   "version": "3.10.12"
  }
 },
 "nbformat": 4,
 "nbformat_minor": 5
}
